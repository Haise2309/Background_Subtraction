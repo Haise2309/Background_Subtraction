{
 "cells": [
  {
   "cell_type": "code",
   "execution_count": 1,
   "metadata": {},
   "outputs": [
    {
     "name": "stdout",
     "output_type": "stream",
     "text": [
      "Image file:C:\\Users\\PC\\Desktop\\Haise2309\\Background_Subtraction\\drive-download-20240815T082948Z-001\\NewBackground.jpg\n",
      "Image file:C:\\Users\\PC\\Desktop\\Haise2309\\Background_Subtraction\\drive-download-20240815T082948Z-001\\GreenBackground.png\n",
      "Image file:C:\\Users\\PC\\Desktop\\Haise2309\\Background_Subtraction\\drive-download-20240815T082948Z-001\\Object.png\n"
     ]
    }
   ],
   "source": [
    "import glob\n",
    "from PIL import Image\n",
    "import os\n",
    "import cv2\n",
    "import numpy as np\n",
    "# link file that have images \n",
    "link_file = r'C:\\Users\\PC\\Desktop\\Haise2309\\Background_Subtraction\\drive-download-20240815T082948Z-001'\n",
    "# Use glob to find all images file have tail .jpg and .png\n",
    "images_file = glob.glob(os.path.join(link_file, '*.jpg')) + glob.glob(os.path.join(link_file, '*.png'))\n",
    "# Read file and handle it\n",
    "for image_file in images_file:\n",
    "    with Image.open(image_file) as img:\n",
    "        # Print\n",
    "        print(f\"Image file:{image_file}\")\n",
    "\n"
   ]
  },
  {
   "cell_type": "code",
   "execution_count": 1,
   "metadata": {},
   "outputs": [
    {
     "name": "stdout",
     "output_type": "stream",
     "text": [
      "Output image saved successfully.\n"
     ]
    }
   ],
   "source": [
    "import cv2\n",
    "import numpy as np\n",
    "\n",
    "try:\n",
    "    obj = cv2.imread(r'C:\\Users\\PC\\Desktop\\Haise2309\\Background_Subtraction\\drive-download-20240815T082948Z-001\\Object.png', 1)\n",
    "    gb = cv2.imread(r'C:\\Users\\PC\\Desktop\\Haise2309\\Background_Subtraction\\drive-download-20240815T082948Z-001\\GreenBackground.png', 1)\n",
    "    new_bg = cv2.imread(r\"C:\\Users\\PC\\Desktop\\Haise2309\\Background_Subtraction\\drive-download-20240815T082948Z-001\\NewBackground.jpg\", 1)\n",
    "\n",
    "    if obj is None or gb is None or new_bg is None:\n",
    "        raise FileNotFoundError(\"One or more input images could not be read.\")\n",
    "\n",
    "    obj = cv2.resize(obj, (640, 480))\n",
    "    gb = cv2.resize(gb, (640, 480))\n",
    "    new_bg = cv2.resize(new_bg, (640,480))\n",
    "\n",
    "    # Subtract background\n",
    "    diff = cv2.absdiff(obj, gb)\n",
    "    diff_gray = cv2.cvtColor(diff, cv2.COLOR_BGR2GRAY)\n",
    "    _, diff_binary = cv2.threshold(diff_gray, 15, 255, cv2.THRESH_BINARY)\n",
    "\n",
    "    # Create mask\n",
    "    mask = cv2.cvtColor(diff_binary, cv2.COLOR_GRAY2BGR)\n",
    "\n",
    "    # Create output image with new background\n",
    "    output = np.where(mask == 255, obj, new_bg)\n",
    "\n",
    "    cv2.imwrite(r\"C:\\Users\\PC\\Desktop\\Haise2309\\Background_Subtraction\\OutputImage.png\", output)\n",
    "    print(\"Output image saved successfully.\")\n",
    "\n",
    "except Exception as e:\n",
    "    print(f\"An error occurred: {str(e)}\")\n",
    "\n",
    "finally:\n",
    "    cv2.destroyAllWindows()\n"
   ]
  }
 ],
 "metadata": {
  "kernelspec": {
   "display_name": "Python (myenv)",
   "language": "python",
   "name": "myenv"
  },
  "language_info": {
   "codemirror_mode": {
    "name": "ipython",
    "version": 3
   },
   "file_extension": ".py",
   "mimetype": "text/x-python",
   "name": "python",
   "nbconvert_exporter": "python",
   "pygments_lexer": "ipython3",
   "version": "3.8.19"
  }
 },
 "nbformat": 4,
 "nbformat_minor": 2
}
